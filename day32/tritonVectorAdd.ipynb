{
 "cells": [
  {
   "cell_type": "code",
   "execution_count": 202,
   "metadata": {},
   "outputs": [],
   "source": [
    "import torch as nn\n",
    "import triton\n",
    "import triton.language as tt\n",
    "import numpy as np\n",
    "import time"
   ]
  },
  {
   "cell_type": "code",
   "execution_count": 203,
   "metadata": {},
   "outputs": [],
   "source": [
    "N = 1<<24\n",
    "BLOCK_SIZE = 1024"
   ]
  },
  {
   "cell_type": "code",
   "execution_count": 204,
   "metadata": {},
   "outputs": [],
   "source": [
    "@triton.jit\n",
    "def init(x, val, N, BLOCK_SIZE: tt.constexpr):\n",
    "    tid = tt.program_id(axis=0)\n",
    "    offsets = tid * BLOCK_SIZE + tt.arange(0, BLOCK_SIZE)\n",
    "    mask = offsets < N\n",
    "    tt.store(x + offsets, val, mask=mask)"
   ]
  },
  {
   "cell_type": "code",
   "execution_count": 205,
   "metadata": {},
   "outputs": [],
   "source": [
    "@triton.jit\n",
    "def add(a_ptr, b_ptr, c_ptr, N, BLOCK_SIZE: tt.constexpr):\n",
    "    tid = tt.program_id(axis=0)\n",
    "    offsets = tid * BLOCK_SIZE + tt.arange(0, BLOCK_SIZE)\n",
    "    mask = offsets < N\n",
    "    a = tt.load(a_ptr + offsets, mask=mask)\n",
    "    b = tt.load(b_ptr + offsets, mask=mask)\n",
    "    c = a + b\n",
    "    tt.store(c_ptr + offsets, c, mask=mask)"
   ]
  },
  {
   "cell_type": "code",
   "execution_count": 206,
   "metadata": {},
   "outputs": [],
   "source": [
    "def main():\n",
    "    a = nn.empty(N, dtype=nn.int32, device='cuda')\n",
    "    b = nn.empty(N, dtype=nn.int32, device='cuda')\n",
    "    c = nn.empty(N, dtype=nn.int32, device='cuda')\n",
    "\n",
    "    block = lambda meta: (triton.cdiv(N, meta['BLOCK_SIZE']),)\n",
    "\n",
    "    init[block](a, 1, N, BLOCK_SIZE=BLOCK_SIZE)\n",
    "    nn.cuda.synchronize()\n",
    "    init[block](b, 2, N, BLOCK_SIZE=BLOCK_SIZE)\n",
    "    nn.cuda.synchronize()\n",
    "    init[block](c, 0, N, BLOCK_SIZE=BLOCK_SIZE)\n",
    "    nn.cuda.synchronize()\n",
    "\n",
    "    start = torch.cuda.Event(enable_timing=True)\n",
    "    end = torch.cuda.Event(enable_timing=True)\n",
    "    start.record()\n",
    "    add[block](a, b, c, N, BLOCK_SIZE=BLOCK_SIZE)\n",
    "    end.record()\n",
    "    nn.cuda.synchronize()\n",
    "    c_copy = c.cpu().numpy()\n",
    "    print(\"Success\" if (c_copy == 3).all() else \"Failure\")\n",
    "    print(\"Triton addition time: {:.3f} ms\".format(start.elapsed_time(end)))"
   ]
  },
  {
   "cell_type": "code",
   "execution_count": 207,
   "metadata": {},
   "outputs": [
    {
     "name": "stdout",
     "output_type": "stream",
     "text": [
      "Success\n",
      "Triton addition time: 0.933 ms\n"
     ]
    }
   ],
   "source": [
    "main()"
   ]
  },
  {
   "cell_type": "code",
   "execution_count": 208,
   "metadata": {},
   "outputs": [
    {
     "name": "stdout",
     "output_type": "stream",
     "text": [
      "CPU loop addition time: 5051.784 ms\n",
      "Numpy addition time: 22.490 ms\n",
      "Success\n"
     ]
    }
   ],
   "source": [
    "a_cpu = np.empty(N, dtype=np.int32)\n",
    "b_cpu = np.empty(N, dtype=np.int32)\n",
    "c_cpu = np.empty(N, dtype=np.int32)\n",
    "a_cpu[:] = 1\n",
    "b_cpu[:] = 2\n",
    "\n",
    "start = time.perf_counter()\n",
    "for i in range(N):\n",
    "    c_cpu[i] = a_cpu[i] + b_cpu[i]\n",
    "end = time.perf_counter()\n",
    "print(\"CPU loop addition time: {:.3f} ms\".format((end - start) * 1000))\n",
    "\n",
    "start_vec = time.perf_counter()\n",
    "c_vec = a_cpu + b_cpu\n",
    "end_vec = time.perf_counter()\n",
    "print(\"Numpy addition time: {:.3f} ms\".format((end_vec - start_vec) * 1000))\n",
    "\n",
    "print(\"Success\" if (c_cpu == 3).all() and (c_vec == 3).all() else \"Error in CPU addition\")"
   ]
  }
 ],
 "metadata": {
  "kernelspec": {
   "display_name": "venvnn",
   "language": "python",
   "name": "python3"
  },
  "language_info": {
   "codemirror_mode": {
    "name": "ipython",
    "version": 3
   },
   "file_extension": ".py",
   "mimetype": "text/x-python",
   "name": "python",
   "nbconvert_exporter": "python",
   "pygments_lexer": "ipython3",
   "version": "3.12.3"
  }
 },
 "nbformat": 4,
 "nbformat_minor": 2
}
