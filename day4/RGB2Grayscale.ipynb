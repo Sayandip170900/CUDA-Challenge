{
 "cells": [
  {
   "cell_type": "code",
   "execution_count": 28,
   "metadata": {},
   "outputs": [],
   "source": [
    "import ctypes\n",
    "import numpy as np\n",
    "import cv2"
   ]
  },
  {
   "cell_type": "code",
   "execution_count": 29,
   "metadata": {},
   "outputs": [],
   "source": [
    "path = \"/mnt/d/CUDA/day4/RGB2Grayscale.so\"\n",
    "\n",
    "lib = ctypes.CDLL(path)\n",
    "\n",
    "lib.init.argtypes = [ctypes.POINTER(ctypes.c_ubyte), ctypes.POINTER(ctypes.c_ubyte), ctypes.c_int, ctypes.c_int]"
   ]
  },
  {
   "cell_type": "code",
   "execution_count": 30,
   "metadata": {},
   "outputs": [],
   "source": [
    "rgb_img = cv2.imread(\"/mnt/d/CUDA/day4/image.jpg\")\n",
    "\n",
    "img_h, img_w, _ = rgb_img.shape\n",
    "\n",
    "gray_img = np.zeros((img_h, img_w), dtype=np.uint8)\n",
    "\n",
    "rgb_img_ctypes = rgb_img.ctypes.data_as(ctypes.POINTER(ctypes.c_ubyte))\n",
    "gray_img_ctypes = gray_img.ctypes.data_as(ctypes.POINTER(ctypes.c_ubyte))"
   ]
  },
  {
   "cell_type": "code",
   "execution_count": 31,
   "metadata": {},
   "outputs": [
    {
     "data": {
      "text/plain": [
       "0"
      ]
     },
     "execution_count": 31,
     "metadata": {},
     "output_type": "execute_result"
    }
   ],
   "source": [
    "lib.init(rgb_img_ctypes, gray_img_ctypes, img_w, img_h)"
   ]
  },
  {
   "cell_type": "code",
   "execution_count": 32,
   "metadata": {},
   "outputs": [
    {
     "data": {
      "text/plain": [
       "True"
      ]
     },
     "execution_count": 32,
     "metadata": {},
     "output_type": "execute_result"
    }
   ],
   "source": [
    "cv2.imwrite(\"/mnt/d/CUDA/day4/grayscale.jpg\", gray_img)"
   ]
  }
 ],
 "metadata": {
  "kernelspec": {
   "display_name": "venvtf",
   "language": "python",
   "name": "python3"
  },
  "language_info": {
   "codemirror_mode": {
    "name": "ipython",
    "version": 3
   },
   "file_extension": ".py",
   "mimetype": "text/x-python",
   "name": "python",
   "nbconvert_exporter": "python",
   "pygments_lexer": "ipython3",
   "version": "3.12.3"
  }
 },
 "nbformat": 4,
 "nbformat_minor": 2
}
