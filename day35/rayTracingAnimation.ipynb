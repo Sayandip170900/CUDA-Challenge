{
 "cells": [
  {
   "cell_type": "code",
   "execution_count": 68,
   "metadata": {},
   "outputs": [],
   "source": [
    "import numpy as np\n",
    "import pycuda.driver as drv\n",
    "import pycuda.autoinit\n",
    "from pycuda.compiler import SourceModule\n",
    "import matplotlib.pyplot as plt\n",
    "from matplotlib.animation import FuncAnimation\n",
    "import matplotlib as mpl"
   ]
  },
  {
   "cell_type": "code",
   "execution_count": null,
   "metadata": {},
   "outputs": [],
   "source": [
    "GPUkernel = \"\"\"\n",
    "#include <math.h>\n",
    "\n",
    "__global__ void render(float *disp, int img_w, int img_h, float time)\n",
    "{\n",
    "    int row = blockIdx.y * blockDim.y + threadIdx.y;\n",
    "    int col = blockIdx.x * blockDim.x + threadIdx.x;\n",
    "\n",
    "    if(row < img_h && col < img_w)\n",
    "    {\n",
    "        int pix_location = row * img_w * 3 + col * 3;\n",
    "\n",
    "        float x = float(col) / img_w;\n",
    "        float y = float(row) / img_h;\n",
    "\n",
    "        float dx1 = x - sin(time*0.5)*0.5;\n",
    "        float dy1 = y - cos(time*0.3)*0.5;\n",
    "        float wave1 = sin(sqrt(dx1*dx1 + dy1*dy1)*20 - time*5);\n",
    "        \n",
    "        float dx2 = x + sin(time*0.7)*0.5;\n",
    "        float dy2 = y + cos(time*0.4)*0.5;\n",
    "        float wave2 = sin(sqrt(dx2*dx2 + dy2*dy2)*18 - time*6);\n",
    "        \n",
    "        float interference = (wave1 + wave2) * 0.5;\n",
    "        \n",
    "        disp[pix_location + 0] = interference*interference;\n",
    "        disp[pix_location + 1] = fabs(interference);\n",
    "        disp[pix_location + 2] = 0.5 + 0.5*sin(interference*3.14 + time);\n",
    "    }\n",
    "}\n",
    "\n",
    "\"\"\""
   ]
  },
  {
   "cell_type": "code",
   "execution_count": 70,
   "metadata": {},
   "outputs": [],
   "source": [
    "module = SourceModule(GPUkernel)\n",
    "render = module.get_function(\"render\")\n",
    "\n",
    "img_w = 1920\n",
    "img_h = 1080\n",
    "\n",
    "n_pix = img_w * img_h\n",
    "disp = np.zeros(3 * n_pix, dtype=np.float32)\n",
    "\n",
    "threads = (16, 16, 1)\n",
    "blocks = ((threads[0] + img_w - 1) // threads[0], (threads[1] + img_h - 1) // threads[1])"
   ]
  },
  {
   "cell_type": "code",
   "execution_count": null,
   "metadata": {},
   "outputs": [],
   "source": [
    "fig = plt.figure(figsize=(8, 6))\n",
    "ax = plt.axes()\n",
    "img_plot = ax.imshow(np.zeros((img_h, img_w, 3)))\n",
    "\n",
    "def animate(frame):\n",
    "    time = frame * 0.1\n",
    "    render(drv.Out(disp), np.int32(img_w), np.int32(img_h), np.float32(time), block=threads, grid=blocks)\n",
    "    img_data = disp.reshape(img_h, img_w, 3)\n",
    "    img_plot.set_array(img_data)\n",
    "    return [img_plot]\n",
    "\n",
    "res = FuncAnimation(fig, animate, frames=50, interval=50, blit=True)"
   ]
  },
  {
   "cell_type": "code",
   "execution_count": 72,
   "metadata": {},
   "outputs": [],
   "source": [
    "res.save('/mnt/d/CUDA/day35/cuda_animation.gif', writer='pillow', fps=20)"
   ]
  }
 ],
 "metadata": {
  "kernelspec": {
   "display_name": "venvtf",
   "language": "python",
   "name": "python3"
  },
  "language_info": {
   "codemirror_mode": {
    "name": "ipython",
    "version": 3
   },
   "file_extension": ".py",
   "mimetype": "text/x-python",
   "name": "python",
   "nbconvert_exporter": "python",
   "pygments_lexer": "ipython3",
   "version": "3.12.3"
  }
 },
 "nbformat": 4,
 "nbformat_minor": 2
}
